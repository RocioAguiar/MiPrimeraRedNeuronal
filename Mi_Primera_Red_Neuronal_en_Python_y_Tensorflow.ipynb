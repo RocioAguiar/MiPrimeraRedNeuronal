{
  "nbformat": 4,
  "nbformat_minor": 0,
  "metadata": {
    "colab": {
      "provenance": [],
      "authorship_tag": "ABX9TyPbwgQ9iT+mUyNdpaZRz7Jd",
      "include_colab_link": true
    },
    "kernelspec": {
      "name": "python3",
      "display_name": "Python 3"
    },
    "language_info": {
      "name": "python"
    }
  },
  "cells": [
    {
      "cell_type": "markdown",
      "metadata": {
        "id": "view-in-github",
        "colab_type": "text"
      },
      "source": [
        "<a href=\"https://colab.research.google.com/github/RocioAguiar/MiPrimeraRedNeuronal/blob/Master/Mi_Primera_Red_Neuronal_en_Python_y_Tensorflow.ipynb\" target=\"_parent\"><img src=\"https://colab.research.google.com/assets/colab-badge.svg\" alt=\"Open In Colab\"/></a>"
      ]
    },
    {
      "cell_type": "markdown",
      "source": [
        "# Mi Primera Red Neuronal en Python y Tensorflow 🤖🧠(AI)"
      ],
      "metadata": {
        "id": "HgO8PPl8RUtO"
      }
    },
    {
      "cell_type": "markdown",
      "source": [
        "Primero importaremos las librerías que vamos a necesitar: tensorflow y numpy"
      ],
      "metadata": {
        "id": "iOqFZh-ZSdz2"
      }
    },
    {
      "cell_type": "code",
      "execution_count": 1,
      "metadata": {
        "id": "nW9xOYUkROnx"
      },
      "outputs": [],
      "source": [
        "import tensorflow as tf\n",
        "import numpy as np\n"
      ]
    },
    {
      "cell_type": "markdown",
      "source": [
        "Luego pondremos los 2 arreglos de datos que tenemos.\n",
        "\n",
        "- Arreglo de datos en Celsius.\n",
        "- Arreglo de datos en Fahrenheit."
      ],
      "metadata": {
        "id": "Qa0x3kDVSmup"
      }
    },
    {
      "cell_type": "code",
      "source": [
        "celsius = np.array([-40, -10, 0, 8, 15, 22, 38], dtype=float)\n",
        "fahrenheit = np.array([-40,14, 32, 46, 59, 72, 100],dtype=float)"
      ],
      "metadata": {
        "id": "rC3rL1nCRqwq"
      },
      "execution_count": 3,
      "outputs": []
    },
    {
      "cell_type": "markdown",
      "source": [
        "Ahora diseñaremos nuestro moelo de red neuronal.\n",
        "\n",
        "Usaremos \"keras\", que nos prmite hacer redes neuronales de manera fácil.\n",
        "\n",
        "capas:\n",
        "capas densas:"
      ],
      "metadata": {
        "id": "85pRvgWyTJqU"
      }
    },
    {
      "cell_type": "code",
      "source": [
        "#capa = tf.keras.layers.Dense(units=1, input_shape=[1])\n",
        "#modelo = tf.keras.Sequential([capa])\n",
        "\n",
        "oculta1 = tf.keras.layers.Dense(units=3,input_shape=[1])\n",
        "oculta2= tf.keras.layers.Dense(units=3)\n",
        "salida = tf.keras.layers.Dense(units=1)\n",
        "modelo = tf.keras.Sequential([oculta1,oculta2, salida])"
      ],
      "metadata": {
        "id": "KTFAkT2dTDCN"
      },
      "execution_count": 13,
      "outputs": []
    },
    {
      "cell_type": "markdown",
      "source": [
        "¡Listo! Ya tenemos el modelo.\n",
        "\n",
        "Ahora vamos a compilarlo."
      ],
      "metadata": {
        "id": "anxpWK1DUB6z"
      }
    },
    {
      "cell_type": "code",
      "source": [
        "modelo.compile(\n",
        "    optimizer=tf.keras.optimizers.Adam(0.1),  #esta es la tasa de aprendizaje\n",
        "    loss='mean_squared_error'\n",
        ")"
      ],
      "metadata": {
        "id": "77qwEnvsUHNV"
      },
      "execution_count": 14,
      "outputs": []
    },
    {
      "cell_type": "markdown",
      "source": [
        "¡Listo! Ya lo compliamos.\n",
        "\n",
        "Ahora... ¡vamos a entrenarlo!"
      ],
      "metadata": {
        "id": "cawzrB6KUVSZ"
      }
    },
    {
      "cell_type": "code",
      "source": [
        "print(\"Comenzando entrenamiento al modelo...\")\n",
        "historial = modelo.fit(celsius, fahrenheit, epochs=1000, verbose=False)\n",
        "print(\"Entrenamiendo completado ✅ \")"
      ],
      "metadata": {
        "colab": {
          "base_uri": "https://localhost:8080/"
        },
        "id": "eT677xrSguZ_",
        "outputId": "750568f9-c91f-44ff-e84a-472a089146f7"
      },
      "execution_count": 15,
      "outputs": [
        {
          "output_type": "stream",
          "name": "stdout",
          "text": [
            "Comenzando entrenamiento al modelo...\n",
            "Entrenamiendo completado ✅ \n"
          ]
        }
      ]
    },
    {
      "cell_type": "markdown",
      "source": [
        "Ahora veremos los resultados de la función de pérdida.\n",
        "\n",
        "Esto nos dice qué tan malos estuvieron los resultados en cada una de las 1000 vueltas que dió."
      ],
      "metadata": {
        "id": "g9LWSTPlhwVP"
      }
    },
    {
      "cell_type": "code",
      "source": [
        "import matplotlib.pyplot as plt\n",
        "plt.xlabel(\"x = # vueltas\")\n",
        "plt.ylabel(\"y = magnitud de pérdida\")\n",
        "plt.plot(historial.history[\"loss\"])"
      ],
      "metadata": {
        "colab": {
          "base_uri": "https://localhost:8080/",
          "height": 466
        },
        "id": "amxu5EsEhHJO",
        "outputId": "63621499-2dc7-4ba9-f1b1-7a8742f4ce00"
      },
      "execution_count": 16,
      "outputs": [
        {
          "output_type": "execute_result",
          "data": {
            "text/plain": [
              "[<matplotlib.lines.Line2D at 0x7c3d3c8838e0>]"
            ]
          },
          "metadata": {},
          "execution_count": 16
        },
        {
          "output_type": "display_data",
          "data": {
            "text/plain": [
              "<Figure size 640x480 with 1 Axes>"
            ],
            "image/png": "[encoded data removed]"
          },
          "metadata": {}
        }
      ]
    },
    {
      "cell_type": "markdown",
      "source": [
        "**¡Muy bien!**\n",
        "\n",
        "Ahora sí, hagamos una predicción 🤖💬..."
      ],
      "metadata": {
        "id": "sxaIAQUdinb0"
      }
    },
    {
      "cell_type": "code",
      "source": [
        "print(\"Hagamos una predicción 🤖💬...\")\n",
        "resultado = modelo.predict([100.0])\n",
        "print(\"El resultado es \" + str(resultado) + \" fahrenheit! \")"
      ],
      "metadata": {
        "colab": {
          "base_uri": "https://localhost:8080/"
        },
        "id": "6YvaA47qibgZ",
        "outputId": "06caced9-6ede-4509-a047-6b784dc5c3b3"
      },
      "execution_count": 18,
      "outputs": [
        {
          "output_type": "stream",
          "name": "stdout",
          "text": [
            "Hagamos una predicción 🤖💬...\n",
            "1/1 [==============================] - 0s 36ms/step\n",
            "El resultado es [[211.74742]] fahrenheit! \n"
          ]
        }
      ]
    },
    {
      "cell_type": "markdown",
      "source": [
        "Veamos qué datos se formaron en el modelo...\n",
        "\n",
        "¿qué pesos y sesgos habrá asignado?...\n"
      ],
      "metadata": {
        "id": "6wqALgi4kHzv"
      }
    },
    {
      "cell_type": "code",
      "source": [
        "print(\"Variables internas del modelo\")\n",
        "#print(capa.get_weights())\n",
        "print(oculta1.get_weights())\n",
        "print(oculta2.get_weights())\n",
        "print(salida.get_weights())\n"
      ],
      "metadata": {
        "colab": {
          "base_uri": "https://localhost:8080/"
        },
        "id": "wBRnpq4jkJzR",
        "outputId": "8e6ddeda-a32c-4e08-bf78-b7448388b59a"
      },
      "execution_count": 23,
      "outputs": [
        {
          "output_type": "stream",
          "name": "stdout",
          "text": [
            "Variables internas del modelo\n",
            "[array([[ 1.0576628 , -0.02967739, -0.23848858]], dtype=float32), array([3.5769482, 2.6252291, 2.8478248], dtype=float32)]\n",
            "[array([[-0.05870254, -0.82548237,  1.1396329 ],\n",
            "       [-0.79982316, -0.7230812 ,  0.9039838 ],\n",
            "       [-0.4715198 , -0.88740015,  0.15953077]], dtype=float32), array([-2.133538 , -3.4796698,  3.5597537], dtype=float32)]\n",
            "[array([[-0.7338593 ],\n",
            "       [-1.4678957 ],\n",
            "       [ 0.80045116]], dtype=float32), array([3.392649], dtype=float32)]\n"
          ]
        }
      ]
    },
    {
      "cell_type": "markdown",
      "source": [
        "# ¡Listo! Bye 👋"
      ],
      "metadata": {
        "id": "syxqPq5in8Gz"
      }
    },
    {
      "cell_type": "code",
      "source": [
        ""
      ],
      "metadata": {
        "id": "buVlrrLnn9DY"
      },
      "execution_count": null,
      "outputs": []
    }
  ]
}